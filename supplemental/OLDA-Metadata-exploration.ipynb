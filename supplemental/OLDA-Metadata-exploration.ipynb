{
 "cells": [
  {
   "cell_type": "markdown",
   "metadata": {},
   "source": [
    "## Metadata reference: OLDA\n",
    "\n",
    "Provide lookup to OLDA metadata, including category definitions"
   ]
  },
  {
   "cell_type": "code",
   "execution_count": null,
   "metadata": {},
   "outputs": [],
   "source": [
    "import os\n",
    "import pandas as pd\n",
    "from sqlalchemy import create_engine"
   ]
  },
  {
   "cell_type": "code",
   "execution_count": null,
   "metadata": {},
   "outputs": [],
   "source": [
    "metadata_path = '/nfshome/chunter/Projects/data_ohio_olda_2018/shared/metadata/chrr_coleridge_file_descriptors'\n",
    "\n",
    "files = os.listdir(metadata_path)"
   ]
  },
  {
   "cell_type": "code",
   "execution_count": null,
   "metadata": {},
   "outputs": [],
   "source": [
    "host = 'stuffed.adrf.info'\n",
    "DB = 'appliedda'\n",
    "\n",
    "connection_string = \"postgresql://{}/{}\".format(host, DB)\n",
    "conn = create_engine(connection_string)"
   ]
  },
  {
   "cell_type": "code",
   "execution_count": null,
   "metadata": {},
   "outputs": [],
   "source": [
    "schema = 'data_ohio_olda_2018'\n",
    "\n",
    "query = '''\n",
    "SELECT tablename\n",
    "FROM pg_tables\n",
    "WHERE schemaname = '{}'\n",
    "'''.format(schema)\n",
    "\n",
    "tables = pd.read_sql(query, conn)"
   ]
  },
  {
   "cell_type": "code",
   "execution_count": null,
   "metadata": {
    "scrolled": true
   },
   "outputs": [],
   "source": [
    "table_meta = {}\n",
    "\n",
    "for f in sorted(files):\n",
    "    if f[-3:]=='csv':\n",
    "        print(f)"
   ]
  },
  {
   "cell_type": "code",
   "execution_count": null,
   "metadata": {},
   "outputs": [],
   "source": [
    "print(tables['tablename'].values)"
   ]
  },
  {
   "cell_type": "code",
   "execution_count": null,
   "metadata": {},
   "outputs": [],
   "source": [
    "# select table \n",
    "tbl = 'oh_hei_demo'\n",
    "\n",
    "query = \"\"\"\n",
    "SELECT column_name \n",
    "FROM information_schema.columns\n",
    "WHERE table_schema = '{}'\n",
    "    AND table_name = '{}'\n",
    "\"\"\".format(schema, tbl)\n",
    "\n",
    "tbl_columns = pd.read_sql(query, conn)['column_name']"
   ]
  },
  {
   "cell_type": "code",
   "execution_count": null,
   "metadata": {},
   "outputs": [],
   "source": [
    "# which metadata files are associated with the HEI data?\n",
    "\n",
    "for f in sorted(files):\n",
    "    if 'hei_demo' in f and f[-3:]=='csv':\n",
    "        print(f)"
   ]
  },
  {
   "cell_type": "code",
   "execution_count": null,
   "metadata": {},
   "outputs": [],
   "source": [
    "label_file = 'coleridge_hei_demo_labels.csv'\n",
    "desc_file = 'coleridge_hei_demo_describe.csv'\n",
    "\n",
    "labels = pd.read_csv(os.path.join( metadata_path, label_file))\n",
    "descs = pd.read_csv(os.path.join( metadata_path, desc_file))"
   ]
  },
  {
   "cell_type": "code",
   "execution_count": null,
   "metadata": {},
   "outputs": [],
   "source": [
    "labels.head()"
   ]
  },
  {
   "cell_type": "code",
   "execution_count": null,
   "metadata": {},
   "outputs": [],
   "source": [
    "descs"
   ]
  },
  {
   "cell_type": "markdown",
   "metadata": {},
   "source": [
    "Now we have\n",
    "- `tbl_columns`: the list of columns in the database table\n",
    "- `descs`: the column metadata descriptions\n",
    "- `labels`: the values associated with each column"
   ]
  },
  {
   "cell_type": "code",
   "execution_count": null,
   "metadata": {},
   "outputs": [],
   "source": [
    "# example lookup: what are the institutions in the data?\n",
    "inst_columns = [c for c in tbl_columns if 'act_code' in c]\n",
    "print(inst_columns)"
   ]
  },
  {
   "cell_type": "code",
   "execution_count": null,
   "metadata": {},
   "outputs": [],
   "source": [
    "\n",
    "labels[labels['lname']==descs[descs['name']=='act_code_hs']['vallab'].values[0]]"
   ]
  },
  {
   "cell_type": "code",
   "execution_count": null,
   "metadata": {},
   "outputs": [],
   "source": [
    "gender = [c for c in tbl_columns if 'gender' in c]\n",
    "print(gender)"
   ]
  },
  {
   "cell_type": "code",
   "execution_count": null,
   "metadata": {},
   "outputs": [],
   "source": [
    "labels[labels['lname']==descs[descs['name']=='gender']['vallab'].values[0]]"
   ]
  },
  {
   "cell_type": "code",
   "execution_count": null,
   "metadata": {},
   "outputs": [],
   "source": [
    "race = [c for c in tbl_columns if 'race' in c]\n",
    "print(race)"
   ]
  },
  {
   "cell_type": "code",
   "execution_count": null,
   "metadata": {},
   "outputs": [],
   "source": [
    "labels[labels['lname']==descs[descs['name']=='race_ethnic_code']['vallab'].values[0]]"
   ]
  },
  {
   "cell_type": "code",
   "execution_count": null,
   "metadata": {},
   "outputs": [],
   "source": []
  }
 ],
 "metadata": {
  "kernelspec": {
   "display_name": "py3-ada",
   "language": "python",
   "name": "py3-ada"
  },
  "language_info": {
   "codemirror_mode": {
    "name": "ipython",
    "version": 3
   },
   "file_extension": ".py",
   "mimetype": "text/x-python",
   "name": "python",
   "nbconvert_exporter": "python",
   "pygments_lexer": "ipython3",
   "version": "3.5.2"
  },
  "toc": {
   "nav_menu": {},
   "number_sections": true,
   "sideBar": true,
   "skip_h1_title": false,
   "toc_cell": false,
   "toc_position": {},
   "toc_section_display": "block",
   "toc_window_display": false
  }
 },
 "nbformat": 4,
 "nbformat_minor": 2
}
