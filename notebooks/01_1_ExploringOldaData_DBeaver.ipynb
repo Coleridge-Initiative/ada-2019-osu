{
 "cells": [
  {
   "cell_type": "markdown",
   "metadata": {},
   "source": [
    "## OLDA data exploration using DBeaver"
   ]
  },
  {
   "cell_type": "markdown",
   "metadata": {},
   "source": [
    "#### 1. Open DBeaver\n",
    "<br>\n",
    "<img src=\"images/DBeaver_open_1.png\" />\n",
    "<br><br>"
   ]
  },
  {
   "cell_type": "markdown",
   "metadata": {},
   "source": [
    "#### 2. Expand the navigation window to explore the **``appliedda``** database and double click on schemas\n",
    "<br>\n",
    "<img src=\"images/Dbeaver_schemas_2.png\" />\n",
    "<br><br>"
   ]
  },
  {
   "cell_type": "markdown",
   "metadata": {},
   "source": [
    "#### 3. Scroll down within the ``Database Navigator`` and double click on the schema **``data_ohio_olda_2018``** to open the ER Diagram\n",
    "<br>\n",
    "<img src=\"images/Dbeaver_OLDA_3.png\" />\n",
    "<br><br>"
   ]
  },
  {
   "cell_type": "markdown",
   "metadata": {},
   "source": [
    "#### 4. Click on `properties` to get useful information such as the list of tables names that are included in ``data_ohio_olda_2018`` as well as the number of rows by each table\n",
    "<br>\n",
    "<img src=\"images/Dbeaver_OLDA_properties_4.png\" />\n",
    "<br><br>"
   ]
  },
  {
   "cell_type": "markdown",
   "metadata": {},
   "source": [
    "#### 5. Double click in one of the tables (e.g., **``oh_otc``**) to access its data and the ER Diagram\n",
    "<br>\n",
    "<img src=\"images/Dbeaver_table_ otc_data_5.png\" />\n",
    "<br><br>"
   ]
  },
  {
   "cell_type": "markdown",
   "metadata": {},
   "source": [
    "#### 6. Open another table by clicking on the ``tables`` down arrow \n",
    "<br>\n",
    "<img src=\"images/Dbeaver_tables_6.png\" />\n",
    "<br><br>"
   ]
  },
  {
   "cell_type": "markdown",
   "metadata": {},
   "source": [
    "#### 7. Create a script. Click in ``New SQL Editor`` in the toolbar:\n",
    "<img src=\"images/Dbeaver_newSQLeditor_7.png\" />\n",
    "<br><br>"
   ]
  },
  {
   "cell_type": "markdown",
   "metadata": {},
   "source": [
    "#### 8. SQL select statement to display the list of tables included in the ``data_ohio_olda_2018`` scheme\n",
    "<br>\n",
    "<img src=\"images/Dbeaver_ListTables_OLDA_8.png\" />\n",
    "<br>\n",
    "Press <strong><kbd>Ctrl+Enter</kbd></strong> to run the query. \n",
    "<br><br>"
   ]
  },
  {
   "cell_type": "markdown",
   "metadata": {},
   "source": [
    "#### 9. Save and rename the script. Select the script in the `project-General` window ...\n",
    " <br>\n",
    "<img src=\"images/Dbeaver_ListScripts_9.png\" />\n",
    "<br>\n",
    "\n",
    "<p>    ... and press <strong><kbd>F2</kbd></strong> and change the script default name</p>\n",
    "<br>\n",
    "<img src=\"images/Dbeaver_listtables_10.png\" />\n",
    "<br><br>"
   ]
  },
  {
   "cell_type": "markdown",
   "metadata": {},
   "source": [
    "#### 10. SQL select statement to display the list of variables on the ``oh_otc`` table\n",
    "<br>\n",
    "<img src=\"images/Dbeaver_oh_otc_columns_11.png\" />\n",
    "<br><br>"
   ]
  },
  {
   "cell_type": "markdown",
   "metadata": {},
   "source": [
    "#### 11. SQL select statement to display ``oh_otc`` data\n",
    "<br>\n",
    "<img src=\"images/select_oh_otc.png\" />\n",
    "<br><br>"
   ]
  },
  {
   "cell_type": "markdown",
   "metadata": {},
   "source": [
    "#### Other SQL select statements to subset the ``oh_otc`` data\n",
    "\n",
    "-- *Select columns key_id, year_of_birth, race, and gender and rows with year_of_birth*\n",
    "\n",
    "    SELECT key_id, \n",
    "           year_of_birth, \n",
    "           race, \n",
    "           gender\n",
    "    FROM data_ohio_olda_2018.oh_otc\n",
    "    WHERE year_of_birth is not null;\n",
    "\n",
    "-- *Count key_id by gender from rows with year_of_birth no null*\n",
    "    \n",
    "    SELECT gender, \n",
    "           count(key_id)\n",
    "    FROM data_ohio_olda_2018.oh_otc\n",
    "    WHERE year_of_birth is not null\n",
    "    group by gender;\n",
    "    \n",
    "-- *Count key_id by race and gender from rows with no null year_of_birth*\n",
    "\n",
    "    SELECT race, \n",
    "           gender, \n",
    "           count(key_id) as num_stud\n",
    "    FROM data_ohio_olda_2018.oh_otc\n",
    "    WHERE year_of_birth is not null\n",
    "    GROUP BY race, gender\n",
    "    ORDER BY gender, num_stud desc;"
   ]
  },
  {
   "cell_type": "markdown",
   "metadata": {},
   "source": [
    "#### Query examples joining different databases\n",
    "\n",
    "-- *Earnings and employment outcomes of vocational rehabilitation closed cases in 2015*\n",
    "\n",
    "    SELECT *\n",
    "    FROM (\n",
    "          SELECT key_id, \n",
    "                 quarter, \n",
    "                 naics_3_digit, \n",
    "                 wages, \n",
    "                 year as yr_emp\n",
    "          FROM data_ohio_olda_2018.oh_ui_wage_by_employer\n",
    "          WHERE year in (2015, 2016, 2017) and employer_num=1) as emp\n",
    "    JOIN (\n",
    "          SELECT key_id, \n",
    "                 date_closure_m_1, \n",
    "                 date_closure_m_2, \n",
    "                 date_closure_m_3, \n",
    "                 date_closure_m_4, \n",
    "                 date_closure_y_1, \n",
    "                 date_closure_y_2, \n",
    "                 date_closure_y_3, \n",
    "                 date_closure_y_4 \n",
    "          FROM data_ohio_olda_2018.oh_vr) as vr\n",
    "    ON emp.key_id = vr.key_id\n",
    "    WHERE date_closure_y_1=2015 OR \n",
    "          date_closure_y_2=2015 OR \n",
    "          date_closure_y_3=2015 OR \n",
    "          date_closure_y_4=2015\n",
    "    LIMIT 10;\n",
    "\n",
    "-- *2016 employment outcomes of cohort 2015*\n",
    "\n",
    "    SELECT key_id, quarter as qtr_emp, wages, weeks, cast(naics_3_digit as char(2)) as naics_2_digit, naics_3_digit, au_2015, sm_2015, sp_2015, wi_2015\n",
    "    FROM (\n",
    "         SELECT key_id as key, \n",
    "                degcert_au_inst1_yr_earned_1, \n",
    "                degcert_sp_inst1_yr_earned_1, \n",
    "                degcert_sm_inst1_yr_earned_1, \n",
    "                degcert_wi_inst1_yr_earned_1, \n",
    "                degcert_au_inst1_term_earned_1 as au_2015, \n",
    "                degcert_sp_inst1_term_earned_1 as sp_2015, \n",
    "                degcert_sm_inst1_term_earned_1 as sm_2015,\n",
    "                degcert_wi_inst1_term_earned_1 as wi_2015\n",
    "         FROM data_ohio_olda_2018.oh_hei) as hei\n",
    "    JOIN data_ohio_olda_2018.oh_ui_wage_by_employer as emp\n",
    "    ON hei.key=emp.key_id\n",
    "    WHERE emp.year=2016 and \n",
    "          hei.degcert_au_inst1_yr_earned_1=2015 or \n",
    "          hei.degcert_sp_inst1_yr_earned_1=2015 or \n",
    "          hei.degcert_sm_inst1_yr_earned_1=2015 or\n",
    "          hei.degcert_wi_inst1_yr_earned_1=2015\n",
    "    limit 10;\n",
    "\n",
    "NOTE: DBeaver [tutorial](https://github.com/dbeaver/dbeaver/wiki/Application-Window-Overview) online"
   ]
  },
  {
   "cell_type": "code",
   "execution_count": null,
   "metadata": {},
   "outputs": [],
   "source": []
  }
 ],
 "metadata": {
  "kernelspec": {
   "display_name": "py3-ada",
   "language": "python",
   "name": "py3-ada"
  },
  "language_info": {
   "codemirror_mode": {
    "name": "ipython",
    "version": 3
   },
   "file_extension": ".py",
   "mimetype": "text/x-python",
   "name": "python",
   "nbconvert_exporter": "python",
   "pygments_lexer": "ipython3",
   "version": "3.5.2"
  },
  "toc": {
   "nav_menu": {},
   "number_sections": true,
   "sideBar": true,
   "skip_h1_title": false,
   "toc_cell": false,
   "toc_position": {},
   "toc_section_display": "block",
   "toc_window_display": false
  }
 },
 "nbformat": 4,
 "nbformat_minor": 2
}
